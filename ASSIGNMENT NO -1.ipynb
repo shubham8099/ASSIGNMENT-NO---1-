{
 "cells": [
  {
   "cell_type": "code",
   "execution_count": 9,
   "id": "63217aac-f401-4606-9e36-856da6838e11",
   "metadata": {},
   "outputs": [
    {
     "data": {
      "text/plain": [
       "str"
      ]
     },
     "execution_count": 9,
     "metadata": {},
     "output_type": "execute_result"
    }
   ],
   "source": [
    "QUESTION 1\n",
    "\n",
    "S = \"SHUBHAM SHAH\"\n",
    "type(S)"
   ]
  },
  {
   "cell_type": "code",
   "execution_count": 5,
   "id": "f737d53f-dc96-428f-a704-1a54216a3c19",
   "metadata": {},
   "outputs": [
    {
     "data": {
      "text/plain": [
       "list"
      ]
     },
     "execution_count": 5,
     "metadata": {},
     "output_type": "execute_result"
    }
   ],
   "source": [
    "l = [8,2,3,4,52,55,\"shubham\",7672.873298]\n",
    "type(l)"
   ]
  },
  {
   "cell_type": "code",
   "execution_count": 6,
   "id": "7b82c710-e687-4907-9995-7fac22ab5f83",
   "metadata": {},
   "outputs": [
    {
     "data": {
      "text/plain": [
       "float"
      ]
     },
     "execution_count": 6,
     "metadata": {},
     "output_type": "execute_result"
    }
   ],
   "source": [
    "x = 72984.87387\n",
    "type(x)"
   ]
  },
  {
   "cell_type": "code",
   "execution_count": 7,
   "id": "4db074a5-f3e8-4151-808c-ed3e5a747cd4",
   "metadata": {},
   "outputs": [
    {
     "data": {
      "text/plain": [
       "tuple"
      ]
     },
     "execution_count": 7,
     "metadata": {},
     "output_type": "execute_result"
    }
   ],
   "source": [
    "a = (5,7,9,)\n",
    "type(a)"
   ]
  },
  {
   "cell_type": "raw",
   "id": "f9e17aa5-1903-4415-922b-212431ac1a05",
   "metadata": {},
   "source": [
    "QUESTION 2\n",
    "\n",
    "var1 = ''\n",
    "\n",
    "This contain string data type which contain single cot.\n",
    "\n",
    "var2 = '[DS , ML ,PYTHON,]'\n",
    "\n",
    "This is list data type which contain strings under the square brackets.\n",
    "\n",
    "var3 = ['DS , 'ML' , 'PYTHON']\n",
    "\n",
    "This contain list data type which contain single cot under the square bracket.\n",
    "\n",
    "var4 = 1\n",
    "\n",
    "This contain integer data type."
   ]
  },
  {
   "cell_type": "raw",
   "id": "b2d203b2-91e5-4e90-b84f-458c893ec16b",
   "metadata": {},
   "source": [
    "QUESTION 3 \n",
    "\n",
    "(i)  / = this is divison operator ex - x/y\n",
    "\n",
    "(ii) % = this is modulas operator ex x%y\n",
    "\n",
    "(iii) // = this is flour divison operator \n",
    "\n",
    "(iv) ** = this is exponention operator\n",
    "\n",
    "\n",
    "\n",
    "\n"
   ]
  },
  {
   "cell_type": "raw",
   "id": "7e2f0b3d-d52f-4e0c-904d-47d2910d2d0a",
   "metadata": {},
   "source": [
    "QUESTION 4"
   ]
  },
  {
   "cell_type": "code",
   "execution_count": 16,
   "id": "c6e721ee-0faa-4eff-87e1-39e54b279dd1",
   "metadata": {},
   "outputs": [
    {
     "name": "stdout",
     "output_type": "stream",
     "text": [
      "2\n",
      "3\n",
      "565.765\n",
      "SHUBHAM\n",
      "67\n",
      "89\n",
      "12\n",
      "(5, 8, 9)\n",
      "9\n",
      "5\n",
      "<class 'int'>\n",
      "<class 'int'>\n",
      "<class 'float'>\n",
      "<class 'str'>\n",
      "<class 'int'>\n",
      "<class 'int'>\n",
      "<class 'int'>\n",
      "<class 'tuple'>\n",
      "<class 'int'>\n",
      "<class 'int'>\n"
     ]
    }
   ],
   "source": [
    "l = [ 2,3,565.765,\"SHUBHAM\",67,89,4*3,(5,8,9), 4+5, 9-4,]\n",
    "for i in l :\n",
    "    print(i)\n",
    "for i in l :\n",
    "    print(type(i))\n",
    "    "
   ]
  },
  {
   "cell_type": "raw",
   "id": "53013835-627a-436d-bd9d-5a0fbef1f05e",
   "metadata": {},
   "source": [
    "QUESTION 5 - usig a while loop ,verify if the number A is purely divisible by number B and if so then how many times it can be divisible .\n",
    "\n",
    "ANSWER - using the while loop when we divide number A with number B which is purely divisible then it divide infinity times beacuse we know that using a while loop they continuous doing divide further our operation is not failed.\n",
    "we takeing an example A = 4 and B = 2 when we divide 4 with 2 using while loop they divding at the infinity times."
   ]
  },
  {
   "cell_type": "code",
   "execution_count": null,
   "id": "d36d593d-8e67-4db6-9344-8ed9f94d6e32",
   "metadata": {},
   "outputs": [],
   "source": [
    "l = [1,2,3,4,5,6,7,8,9,10,11,12,13,14,15,16,17,18,19,20,21,22,23,24,25]"
   ]
  },
  {
   "cell_type": "code",
   "execution_count": null,
   "id": "26b802b2-262a-4364-bb08-4f9e1916f067",
   "metadata": {},
   "outputs": [],
   "source": [
    "for i in l :\n",
    "    if i/l\n",
    "    print(i)\n",
    "else :\n",
    "    print(\"if yhe element is divisible by 3 or not\")\n",
    "    "
   ]
  },
  {
   "cell_type": "raw",
   "id": "db9b7d6b-2d41-439b-a4e4-96b2b4149dfb",
   "metadata": {},
   "source": [
    "QUESTION 7 \n",
    "\n",
    "ANSWER -\n",
    "\n",
    " * MUTABLE = mutable is a data type in which we can modify and change single or specific data type which present in the list.\n",
    "\n",
    " * IMUTABLE = imutable is a data type in which we can't cahnge or modify an specific data or any containing letter.\n",
    " \n",
    " example are Given below -"
   ]
  },
  {
   "cell_type": "raw",
   "id": "b4f4fbb0-dcf1-4ed1-a3e1-e557e0ce12e3",
   "metadata": {},
   "source": [
    "Q = \"shubham\"\n",
    "\n",
    "this is the example of imutable data type which cant't change an specific letter or and data."
   ]
  },
  {
   "cell_type": "code",
   "execution_count": null,
   "id": "734db6a1-8236-43da-b527-f88f7c41b27d",
   "metadata": {},
   "outputs": [],
   "source": [
    "P = [6.54,47474,\"shubham\",\"sita\",] \n",
    "\n",
    "this is the example of mutable data we can change any specific data conatin any data type."
   ]
  },
  {
   "cell_type": "code",
   "execution_count": 5,
   "id": "87a1416a-6891-4129-b389-220c743256fb",
   "metadata": {},
   "outputs": [
    {
     "data": {
      "text/plain": [
       "47474"
      ]
     },
     "execution_count": 5,
     "metadata": {},
     "output_type": "execute_result"
    }
   ],
   "source": [
    "P[1]"
   ]
  },
  {
   "cell_type": "code",
   "execution_count": 6,
   "id": "8faab719-6eb9-468e-9b8b-35a98f240da8",
   "metadata": {},
   "outputs": [],
   "source": [
    "P[1] = \"SITASHUBHAM\""
   ]
  },
  {
   "cell_type": "code",
   "execution_count": 7,
   "id": "08abf280-821f-446a-9cc3-764b352857eb",
   "metadata": {},
   "outputs": [
    {
     "data": {
      "text/plain": [
       "[6.54, 'SITASHUBHAM', 'shubham', 'sita']"
      ]
     },
     "execution_count": 7,
     "metadata": {},
     "output_type": "execute_result"
    }
   ],
   "source": [
    "P"
   ]
  },
  {
   "cell_type": "raw",
   "id": "f0be0cef-c382-4e29-a29e-e2beee7c60a2",
   "metadata": {},
   "source": [
    "Here we can se that we change an specific data which is present in the list .\n",
    "\n",
    "\n",
    "\n",
    "\n",
    "\n",
    "                                                      \n",
    "                                                        \n",
    "                                                        \n",
    "                                                        T"
   ]
  }
 ],
 "metadata": {
  "kernelspec": {
   "display_name": "Python 3 (ipykernel)",
   "language": "python",
   "name": "python3"
  },
  "language_info": {
   "codemirror_mode": {
    "name": "ipython",
    "version": 3
   },
   "file_extension": ".py",
   "mimetype": "text/x-python",
   "name": "python",
   "nbconvert_exporter": "python",
   "pygments_lexer": "ipython3",
   "version": "3.10.8"
  }
 },
 "nbformat": 4,
 "nbformat_minor": 5
}
