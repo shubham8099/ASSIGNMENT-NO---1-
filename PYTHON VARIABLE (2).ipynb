{
 "cells": [
  {
   "cell_type": "code",
   "execution_count": 1,
   "id": "e59856bd-1a48-4008-b19a-1fc2d04312b7",
   "metadata": {},
   "outputs": [],
   "source": [
    "a = 1"
   ]
  },
  {
   "cell_type": "code",
   "execution_count": 2,
   "id": "b7a9b94c-f898-4a70-919a-c96d94883659",
   "metadata": {},
   "outputs": [
    {
     "data": {
      "text/plain": [
       "1"
      ]
     },
     "execution_count": 2,
     "metadata": {},
     "output_type": "execute_result"
    }
   ],
   "source": [
    "a"
   ]
  },
  {
   "cell_type": "code",
   "execution_count": 3,
   "id": "5978d5f8-2095-427b-a665-e9f92b991119",
   "metadata": {},
   "outputs": [
    {
     "data": {
      "text/plain": [
       "int"
      ]
     },
     "execution_count": 3,
     "metadata": {},
     "output_type": "execute_result"
    }
   ],
   "source": [
    "type(a)"
   ]
  },
  {
   "cell_type": "code",
   "execution_count": 4,
   "id": "c56c2983-8951-4842-bcdd-57770f647eba",
   "metadata": {},
   "outputs": [],
   "source": [
    "b = \"SHUBHAM\""
   ]
  },
  {
   "cell_type": "code",
   "execution_count": 5,
   "id": "c39946e5-7371-4940-b5db-e4627567f8fc",
   "metadata": {},
   "outputs": [
    {
     "data": {
      "text/plain": [
       "str"
      ]
     },
     "execution_count": 5,
     "metadata": {},
     "output_type": "execute_result"
    }
   ],
   "source": [
    "type(b)"
   ]
  },
  {
   "cell_type": "code",
   "execution_count": 6,
   "id": "1e6f2578-6527-4479-bc1f-1068186f44c8",
   "metadata": {},
   "outputs": [],
   "source": [
    "c = 68795.689895"
   ]
  },
  {
   "cell_type": "code",
   "execution_count": 7,
   "id": "98e20ab0-8473-47dd-b8a4-f5ccad74c6b5",
   "metadata": {},
   "outputs": [
    {
     "data": {
      "text/plain": [
       "float"
      ]
     },
     "execution_count": 7,
     "metadata": {},
     "output_type": "execute_result"
    }
   ],
   "source": [
    "type(c)"
   ]
  },
  {
   "cell_type": "code",
   "execution_count": 8,
   "id": "c6694bae-a7b0-472b-b2ad-111ad30c96f2",
   "metadata": {},
   "outputs": [],
   "source": [
    "shubham = 6348368"
   ]
  },
  {
   "cell_type": "code",
   "execution_count": 9,
   "id": "e48a5335-53e4-4ac3-b49a-e6d8ae300ec3",
   "metadata": {},
   "outputs": [
    {
     "data": {
      "text/plain": [
       "6348368"
      ]
     },
     "execution_count": 9,
     "metadata": {},
     "output_type": "execute_result"
    }
   ],
   "source": [
    "shubham"
   ]
  },
  {
   "cell_type": "code",
   "execution_count": 10,
   "id": "a491117b-b8bc-4f8f-9175-bd2f51373e22",
   "metadata": {},
   "outputs": [
    {
     "data": {
      "text/plain": [
       "int"
      ]
     },
     "execution_count": 10,
     "metadata": {},
     "output_type": "execute_result"
    }
   ],
   "source": [
    "type(shubham)"
   ]
  },
  {
   "cell_type": "code",
   "execution_count": 12,
   "id": "6b143266-165d-4494-8ac6-ae5b79dadd77",
   "metadata": {},
   "outputs": [],
   "source": [
    "S = True"
   ]
  },
  {
   "cell_type": "code",
   "execution_count": 13,
   "id": "cbc4332e-9b3c-4b21-81a6-063fe5c81f2b",
   "metadata": {},
   "outputs": [
    {
     "data": {
      "text/plain": [
       "bool"
      ]
     },
     "execution_count": 13,
     "metadata": {},
     "output_type": "execute_result"
    }
   ],
   "source": [
    "type(S)"
   ]
  },
  {
   "cell_type": "code",
   "execution_count": 18,
   "id": "b30599e8-0baa-419a-893a-91efb4a05a2d",
   "metadata": {},
   "outputs": [],
   "source": [
    "K = False"
   ]
  },
  {
   "cell_type": "code",
   "execution_count": 19,
   "id": "0adca23f-6155-460f-8889-53e77a75f26b",
   "metadata": {},
   "outputs": [
    {
     "data": {
      "text/plain": [
       "bool"
      ]
     },
     "execution_count": 19,
     "metadata": {},
     "output_type": "execute_result"
    }
   ],
   "source": [
    "type(K)"
   ]
  },
  {
   "cell_type": "code",
   "execution_count": 27,
   "id": "35410cea-b567-495f-b1c6-ac99a4b51305",
   "metadata": {},
   "outputs": [
    {
     "data": {
      "text/plain": [
       "1"
      ]
     },
     "execution_count": 27,
     "metadata": {},
     "output_type": "execute_result"
    }
   ],
   "source": [
    "True - False"
   ]
  },
  {
   "cell_type": "code",
   "execution_count": 26,
   "id": "3b04bdf4-4933-406b-9a3a-94b0df9663c1",
   "metadata": {},
   "outputs": [
    {
     "data": {
      "text/plain": [
       "-1"
      ]
     },
     "execution_count": 26,
     "metadata": {},
     "output_type": "execute_result"
    }
   ],
   "source": [
    "False - True"
   ]
  },
  {
   "cell_type": "code",
   "execution_count": 28,
   "id": "633f6940-426f-4a00-b9e1-cff387248c85",
   "metadata": {},
   "outputs": [
    {
     "data": {
      "text/plain": [
       "0"
      ]
     },
     "execution_count": 28,
     "metadata": {},
     "output_type": "execute_result"
    }
   ],
   "source": [
    "True*False"
   ]
  },
  {
   "cell_type": "code",
   "execution_count": 29,
   "id": "611f19ed-07c2-41b5-91c2-3ac163679237",
   "metadata": {},
   "outputs": [],
   "source": [
    "f = 4+5j"
   ]
  },
  {
   "cell_type": "code",
   "execution_count": 30,
   "id": "96596ac5-e615-4ef9-a7d4-372e1bf75e7a",
   "metadata": {},
   "outputs": [
    {
     "data": {
      "text/plain": [
       "complex"
      ]
     },
     "execution_count": 30,
     "metadata": {},
     "output_type": "execute_result"
    }
   ],
   "source": [
    "type(f)"
   ]
  },
  {
   "cell_type": "code",
   "execution_count": 31,
   "id": "38eb8df4-a0dd-4af4-9a43-38ced6cadde6",
   "metadata": {},
   "outputs": [],
   "source": [
    "g = 7j"
   ]
  },
  {
   "cell_type": "code",
   "execution_count": 32,
   "id": "8701f50a-96b3-4865-9ecf-2de64f295ba3",
   "metadata": {},
   "outputs": [
    {
     "data": {
      "text/plain": [
       "complex"
      ]
     },
     "execution_count": 32,
     "metadata": {},
     "output_type": "execute_result"
    }
   ],
   "source": [
    "type(g)"
   ]
  },
  {
   "cell_type": "code",
   "execution_count": 33,
   "id": "ed0060ce-55a2-4514-b4de-adef99f3b460",
   "metadata": {},
   "outputs": [],
   "source": [
    "#45 = 23"
   ]
  },
  {
   "cell_type": "code",
   "execution_count": 34,
   "id": "233ccec4-e08e-45d8-843f-38545d1ac323",
   "metadata": {},
   "outputs": [],
   "source": [
    "#AMISHA GUPTA DOGLI"
   ]
  },
  {
   "cell_type": "code",
   "execution_count": 38,
   "id": "a7116ed2-ad6b-4c98-bbc9-eb846604268d",
   "metadata": {},
   "outputs": [],
   "source": [
    "Q = \"AMISHA GUPTA\""
   ]
  },
  {
   "cell_type": "code",
   "execution_count": 39,
   "id": "66727e7c-c294-4fc7-b2ec-6185d9601c34",
   "metadata": {},
   "outputs": [
    {
     "data": {
      "text/plain": [
       "'AMISHA GUPTA'"
      ]
     },
     "execution_count": 39,
     "metadata": {},
     "output_type": "execute_result"
    }
   ],
   "source": [
    "Q"
   ]
  },
  {
   "cell_type": "code",
   "execution_count": 41,
   "id": "eb9430d4-a938-4359-96a9-f785773aae61",
   "metadata": {},
   "outputs": [],
   "source": [
    "_p = \"poonam\""
   ]
  },
  {
   "cell_type": "code",
   "execution_count": 43,
   "id": "66d0aa7e-63e9-41d9-b655-086a17eda73a",
   "metadata": {},
   "outputs": [
    {
     "data": {
      "text/plain": [
       "'poonam'"
      ]
     },
     "execution_count": 43,
     "metadata": {},
     "output_type": "execute_result"
    }
   ],
   "source": [
    "_p"
   ]
  },
  {
   "cell_type": "code",
   "execution_count": 44,
   "id": "2089b218-afa9-4c1e-a7a2-fdffaddb4461",
   "metadata": {},
   "outputs": [
    {
     "data": {
      "text/plain": [
       "(4+5j)"
      ]
     },
     "execution_count": 44,
     "metadata": {},
     "output_type": "execute_result"
    }
   ],
   "source": [
    "f"
   ]
  },
  {
   "cell_type": "code",
   "execution_count": 45,
   "id": "02070122-b12b-4450-89fd-591588541b5c",
   "metadata": {},
   "outputs": [
    {
     "data": {
      "text/plain": [
       "4.0"
      ]
     },
     "execution_count": 45,
     "metadata": {},
     "output_type": "execute_result"
    }
   ],
   "source": [
    "f.real"
   ]
  },
  {
   "cell_type": "code",
   "execution_count": 46,
   "id": "d0be4a34-7c48-47fd-9dcf-92dff8d3d3fe",
   "metadata": {},
   "outputs": [
    {
     "data": {
      "text/plain": [
       "5.0"
      ]
     },
     "execution_count": 46,
     "metadata": {},
     "output_type": "execute_result"
    }
   ],
   "source": [
    "f.imag"
   ]
  },
  {
   "cell_type": "code",
   "execution_count": null,
   "id": "b3b41a2d-dc70-43cb-a390-0017ad8c50b8",
   "metadata": {},
   "outputs": [],
   "source": []
  }
 ],
 "metadata": {
  "kernelspec": {
   "display_name": "Python 3 (ipykernel)",
   "language": "python",
   "name": "python3"
  },
  "language_info": {
   "codemirror_mode": {
    "name": "ipython",
    "version": 3
   },
   "file_extension": ".py",
   "mimetype": "text/x-python",
   "name": "python",
   "nbconvert_exporter": "python",
   "pygments_lexer": "ipython3",
   "version": "3.10.8"
  }
 },
 "nbformat": 4,
 "nbformat_minor": 5
}
